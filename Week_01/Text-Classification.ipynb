{
 "cells": [
  {
   "cell_type": "markdown",
   "metadata": {
    "id": "2hIkSwFydumS"
   },
   "source": [
    "# **CNN & APPLICATIONS**"
   ]
  },
  {
   "cell_type": "markdown",
   "metadata": {
    "id": "QizybzxmKFm8"
   },
   "source": [
    "## **CNN for Text Classification**"
   ]
  },
  {
   "cell_type": "code",
   "execution_count": 1,
   "metadata": {
    "id": "bMwMQS4bh8wS"
   },
   "outputs": [],
   "source": [
    "import os\n",
    "import random\n",
    "import numpy as np\n",
    "\n",
    "import torch\n",
    "import torch.nn as nn\n",
    "import torch.optim as optim\n",
    "import torch.nn.functional as F\n",
    "import torch.utils.data as data\n",
    "\n",
    "import torchvision.transforms as transforms\n",
    "import torchvision.datasets as datasets\n",
    "\n",
    "from torchsummary import summary\n",
    "\n",
    "import matplotlib.pyplot as plt\n",
    "from PIL import Image"
   ]
  },
  {
   "cell_type": "code",
   "execution_count": 2,
   "metadata": {
    "id": "tAoT7bubJGAO"
   },
   "outputs": [],
   "source": [
    "SEED = 42\n",
    "\n",
    "random.seed(SEED)\n",
    "np.random.seed(SEED)\n",
    "torch.manual_seed(SEED)\n",
    "torch.cuda.manual_seed(SEED)\n",
    "torch.backends.cudnn.deterministic = True"
   ]
  },
  {
   "cell_type": "markdown",
   "metadata": {},
   "source": [
    "#### **Model**"
   ]
  },
  {
   "cell_type": "code",
   "execution_count": 3,
   "metadata": {},
   "outputs": [],
   "source": [
    "class LeNetClassifier(nn.Module):\n",
    "    def __init__(self, num_classes):\n",
    "        super().__init__()\n",
    "        self.conv1 = nn.Conv2d(\n",
    "            in_channels=1, out_channels=6, kernel_size=5, padding='same')\n",
    "        self.avgpool1 = nn.AvgPool2d(kernel_size=2)\n",
    "        self.conv2 = nn.Conv2d(in_channels=6, out_channels=16, kernel_size=5)\n",
    "        self.avgpool2 = nn.AvgPool2d(kernel_size=2)\n",
    "        self.flatten = nn.Flatten()\n",
    "        self.fc_1 = nn.Linear(16 * 5 * 5, 120)\n",
    "        self.fc_2 = nn.Linear(120, 84)\n",
    "        self.fc_3 = nn.Linear(84, num_classes)\n",
    "\n",
    "    def forward(self, inputs):\n",
    "        outputs = self.conv1(inputs)\n",
    "        outputs = self.avgpool1(outputs)\n",
    "        outputs = F.relu(outputs)\n",
    "        outputs = self.conv2(outputs)\n",
    "        outputs = self.avgpool2(outputs)\n",
    "        outputs = F.relu(outputs)\n",
    "        outputs = self.flatten(outputs)\n",
    "        outputs = self.fc_1(outputs)\n",
    "        outputs = self.fc_2(outputs)\n",
    "        outputs = self.fc_3(outputs)\n",
    "        return outputs"
   ]
  },
  {
   "cell_type": "markdown",
   "metadata": {
    "id": "ppgs0OrP6yeK"
   },
   "source": [
    "#### **Inference**"
   ]
  },
  {
   "cell_type": "code",
   "execution_count": 4,
   "metadata": {
    "id": "lab9Gx3x60lH"
   },
   "outputs": [],
   "source": [
    "def load_model(model_path, num_classes=5):\n",
    "    lenet_model = LeNetClassifier(num_classes)\n",
    "    lenet_model.load_state_dict(torch.load(model_path, weights_only=True))\n",
    "    lenet_model.eval()\n",
    "    return lenet_model\n",
    "\n",
    "def inference(img_path, model):\n",
    "    image = Image.open(img_path)\n",
    "    img_size = 150\n",
    "\n",
    "    img_transform = transforms.Compose([\n",
    "        transforms.Resize((150, 150)),\n",
    "        transforms.ToTensor(),\n",
    "    ])\n",
    "    img_new = img_transform(image)\n",
    "    img_new = torch.unsqueeze(img_new, 0)\n",
    "    with torch.no_grad():\n",
    "        predictions = model(img_new)\n",
    "    preds = nn.Softmax(dim=1)(predictions)\n",
    "    p_max, yhat = torch.max(preds.data, 1)\n",
    "    return p_max.item(), yhat.item()"
   ]
  },
  {
   "cell_type": "markdown",
   "metadata": {
    "id": "HKY3BjxtV_8o"
   },
   "source": [
    "### **Load dataset**"
   ]
  },
  {
   "cell_type": "code",
   "execution_count": 5,
   "metadata": {
    "colab": {
     "base_uri": "https://localhost:8080/"
    },
    "executionInfo": {
     "elapsed": 21446,
     "status": "ok",
     "timestamp": 1733328668428,
     "user": {
      "displayName": "Thái Nguyễn Quốc",
      "userId": "04072932238722635186"
     },
     "user_tz": -420
    },
    "id": "Zu42jmb8QJT2",
    "outputId": "e83b65a0-62d1-434d-d296-633122f3066b"
   },
   "outputs": [],
   "source": [
    "# !git clone https://github.com/congnghia0609/ntc-scv.git"
   ]
  },
  {
   "cell_type": "code",
   "execution_count": 6,
   "metadata": {},
   "outputs": [],
   "source": [
    "# !mkdir data"
   ]
  },
  {
   "cell_type": "code",
   "execution_count": 7,
   "metadata": {},
   "outputs": [
    {
     "data": {
      "text/plain": [
       "'e:\\\\OneDrive\\\\1.0 DS & AI\\\\AIO2024\\\\AIO-Exercise\\\\Module_06\\\\Week_01\\\\TextClassification'"
      ]
     },
     "execution_count": 7,
     "metadata": {},
     "output_type": "execute_result"
    }
   ],
   "source": [
    "pwd"
   ]
  },
  {
   "cell_type": "code",
   "execution_count": 8,
   "metadata": {},
   "outputs": [],
   "source": [
    "# !tar -xf ./ntc-scv/data/data_test.zip -C ./data  \n",
    "# !tar -xf ./ntc-scv/data/data_train.zip -C ./data"
   ]
  },
  {
   "cell_type": "code",
   "execution_count": 9,
   "metadata": {},
   "outputs": [],
   "source": [
    "# !rmdir /S /Q ntc-scv  # Remove the 'ntc-scv' directory and its contents  "
   ]
  },
  {
   "cell_type": "code",
   "execution_count": 10,
   "metadata": {
    "id": "Hqri8gZIWJfv"
   },
   "outputs": [],
   "source": [
    "import os\n",
    "import pandas as pd\n",
    "\n",
    "def load_data_from_path(folder_path):\n",
    "    examples = []\n",
    "    for label in os.listdir(folder_path):\n",
    "        full_path = os.path.join(folder_path, label)\n",
    "        for file_name in os.listdir(full_path):\n",
    "            file_path = os.path.join(full_path, file_name)\n",
    "            with open(file_path, \"r\", encoding=\"utf-8\") as f:\n",
    "                lines = f.readlines()\n",
    "            sentence = \" \".join(lines)\n",
    "            if label == \"neg\":\n",
    "                label = 0\n",
    "            if label == \"pos\":\n",
    "                label = 1\n",
    "            data = {\n",
    "                'sentence': sentence,\n",
    "                'label': label\n",
    "            }\n",
    "            examples.append(data)\n",
    "    return pd.DataFrame(examples)"
   ]
  },
  {
   "cell_type": "code",
   "execution_count": 11,
   "metadata": {
    "id": "qgUOsL2TWLPH"
   },
   "outputs": [],
   "source": [
    "folder_paths = {\n",
    "    'train': './data/data_train/train',\n",
    "    'valid': './data/data_train/test',\n",
    "    'test': './data/data_test/test'\n",
    "}\n",
    "\n",
    "train_df = load_data_from_path(folder_paths['train'])\n",
    "valid_df = load_data_from_path(folder_paths['valid'])\n",
    "test_df = load_data_from_path(folder_paths['test'])"
   ]
  },
  {
   "cell_type": "markdown",
   "metadata": {
    "id": "UYD88yN6WNmq"
   },
   "source": [
    "### **Preprocessing**"
   ]
  },
  {
   "cell_type": "code",
   "execution_count": null,
   "metadata": {
    "colab": {
     "base_uri": "https://localhost:8080/"
    },
    "executionInfo": {
     "elapsed": 2875,
     "status": "ok",
     "timestamp": 1733328694012,
     "user": {
      "displayName": "Thái Nguyễn Quốc",
      "userId": "04072932238722635186"
     },
     "user_tz": -420
    },
    "id": "ql1sRIHyWRWX",
    "outputId": "885295fc-5e74-47a4-8b82-4688fe47c739"
   },
   "outputs": [
    {
     "name": "stdout",
     "output_type": "stream",
     "text": [
      "Requirement already satisfied: langid in c:\\users\\tienn\\anaconda3\\envs\\gesture_env\\lib\\site-packages (1.1.6)\n",
      "Requirement already satisfied: numpy in c:\\users\\tienn\\anaconda3\\envs\\gesture_env\\lib\\site-packages (from langid) (1.26.4)\n"
     ]
    }
   ],
   "source": [
    "# !pip install langid"
   ]
  },
  {
   "cell_type": "code",
   "execution_count": 13,
   "metadata": {
    "id": "xCKYuCjgWVzv"
   },
   "outputs": [],
   "source": [
    "from langid.langid import LanguageIdentifier, model\n",
    "\n",
    "def identify_vn(df):\n",
    "    identifier = LanguageIdentifier.from_modelstring(model, norm_probs=True)\n",
    "    not_vi_idx = set()\n",
    "    THRESHOLD = 0.9\n",
    "    for idx, row in df.iterrows():\n",
    "        score = identifier.classify(row[\"sentence\"])\n",
    "        if score[0] != \"vi\" or (score[0] == \"vi\" and score[1] <= THRESHOLD):\n",
    "            not_vi_idx.add(idx)\n",
    "    vi_df = df[~df.index.isin(not_vi_idx)]\n",
    "    not_vi_df = df[df.index.isin(not_vi_idx)]\n",
    "    return vi_df, not_vi_df"
   ]
  },
  {
   "cell_type": "code",
   "execution_count": 14,
   "metadata": {
    "id": "x7_R7pp7WW8q"
   },
   "outputs": [],
   "source": [
    "train_df_vi, train_df_other = identify_vn(train_df)"
   ]
  },
  {
   "cell_type": "code",
   "execution_count": 15,
   "metadata": {
    "id": "NDp2y91iWZ-P"
   },
   "outputs": [],
   "source": [
    "import re\n",
    "import string\n",
    "\n",
    "def preprocess_text(text):\n",
    "    # remove URLs https://www.\n",
    "    url_pattern = re.compile(r'https?://\\s+\\wwww\\.\\s+')\n",
    "    text = url_pattern.sub(r\" \", text)\n",
    "\n",
    "    # remove HTML Tags: <>\n",
    "    html_pattern = re.compile(r'<[^<>]+>')\n",
    "    text = html_pattern.sub(\" \", text)\n",
    "\n",
    "    # remove puncs and digits\n",
    "    replace_chars = list(string.punctuation + string.digits)\n",
    "    for char in replace_chars:\n",
    "        text = text.replace(char, \" \")\n",
    "\n",
    "    # remove emoji\n",
    "    emoji_pattern = re.compile(\"[\"\n",
    "        u\"\\U0001F600-\\U0001F64F\"  # emoticons\n",
    "        u\"\\U0001F300-\\U0001F5FF\"  # symbols & pictographs\n",
    "        u\"\\U0001F680-\\U0001F6FF\"  # transport & map symbols\n",
    "        u\"\\U0001F1E0-\\U0001F1FF\"  # flags (iOS)\n",
    "        u\"\\U0001F1F2-\\U0001F1F4\"  # Macau flag\n",
    "        u\"\\U0001F1E6-\\U0001F1FF\"  # flags\n",
    "        u\"\\U0001F600-\\U0001F64F\"\n",
    "        u\"\\U00002702-\\U000027B0\"\n",
    "        u\"\\U000024C2-\\U0001F251\"\n",
    "        u\"\\U0001f926-\\U0001f937\"\n",
    "        u\"\\U0001F1F2\"\n",
    "        u\"\\U0001F1F4\"\n",
    "        u\"\\U0001F620\"\n",
    "        u\"\\u200d\"\n",
    "        u\"\\u2640-\\u2642\"\n",
    "        \"]+\", flags=re.UNICODE)\n",
    "    text = emoji_pattern.sub(r\" \", text)\n",
    "\n",
    "    # normalize whitespace\n",
    "    text = \" \".join(text.split())\n",
    "\n",
    "    # lowercasing\n",
    "    text = text.lower()\n",
    "    return text"
   ]
  },
  {
   "cell_type": "code",
   "execution_count": 16,
   "metadata": {
    "colab": {
     "base_uri": "https://localhost:8080/"
    },
    "executionInfo": {
     "elapsed": 6180,
     "status": "ok",
     "timestamp": 1733328813585,
     "user": {
      "displayName": "Thái Nguyễn Quốc",
      "userId": "04072932238722635186"
     },
     "user_tz": -420
    },
    "id": "d4_LoaNXWcKz",
    "outputId": "200b0dae-c409-43e6-88ff-3b887dc2f7b2"
   },
   "outputs": [
    {
     "name": "stderr",
     "output_type": "stream",
     "text": [
      "C:\\Users\\tienn\\AppData\\Local\\Temp\\ipykernel_9248\\1058621333.py:1: SettingWithCopyWarning: \n",
      "A value is trying to be set on a copy of a slice from a DataFrame.\n",
      "Try using .loc[row_indexer,col_indexer] = value instead\n",
      "\n",
      "See the caveats in the documentation: https://pandas.pydata.org/pandas-docs/stable/user_guide/indexing.html#returning-a-view-versus-a-copy\n",
      "  train_df_vi['preprocess_sentence'] = [preprocess_text(row['sentence']) for index, row in train_df_vi.iterrows()]\n"
     ]
    }
   ],
   "source": [
    "train_df_vi['preprocess_sentence'] = [preprocess_text(row['sentence']) for index, row in train_df_vi.iterrows()]\n",
    "valid_df['preprocess_sentence'] = [preprocess_text(row['sentence']) for index, row in valid_df.iterrows()]\n",
    "test_df['preprocess_sentence'] = [preprocess_text(row['sentence']) for index, row in test_df.iterrows()]"
   ]
  },
  {
   "cell_type": "code",
   "execution_count": 17,
   "metadata": {
    "colab": {
     "base_uri": "https://localhost:8080/",
     "height": 423
    },
    "executionInfo": {
     "elapsed": 485,
     "status": "ok",
     "timestamp": 1733328400510,
     "user": {
      "displayName": "Thái Nguyễn Quốc",
      "userId": "04072932238722635186"
     },
     "user_tz": -420
    },
    "id": "TyQRBfTeA4zD",
    "outputId": "a1b604c1-2081-434a-dac8-4bd821f9e1a8"
   },
   "outputs": [
    {
     "data": {
      "text/html": [
       "<div>\n",
       "<style scoped>\n",
       "    .dataframe tbody tr th:only-of-type {\n",
       "        vertical-align: middle;\n",
       "    }\n",
       "\n",
       "    .dataframe tbody tr th {\n",
       "        vertical-align: top;\n",
       "    }\n",
       "\n",
       "    .dataframe thead th {\n",
       "        text-align: right;\n",
       "    }\n",
       "</style>\n",
       "<table border=\"1\" class=\"dataframe\">\n",
       "  <thead>\n",
       "    <tr style=\"text-align: right;\">\n",
       "      <th></th>\n",
       "      <th>sentence</th>\n",
       "      <th>label</th>\n",
       "      <th>preprocess_sentence</th>\n",
       "    </tr>\n",
       "  </thead>\n",
       "  <tbody>\n",
       "    <tr>\n",
       "      <th>0</th>\n",
       "      <td>Mua có mỗi Bingsu thập_cẩm 45k mà mình f đợi h...</td>\n",
       "      <td>0</td>\n",
       "      <td>mua có mỗi bingsu thập cẩm k mà mình f đợi hơn...</td>\n",
       "    </tr>\n",
       "    <tr>\n",
       "      <th>1</th>\n",
       "      <td>Thứ 6 nào ta cùng quẩy 💣 💣 💣\\n Vuvuzela beer c...</td>\n",
       "      <td>0</td>\n",
       "      <td>thứ nào ta cùng quẩy vuvuzela beer club chung ...</td>\n",
       "    </tr>\n",
       "    <tr>\n",
       "      <th>2</th>\n",
       "      <td>Mình đi với nhóm , tổng_cộng 4 người ăn chỉ có...</td>\n",
       "      <td>0</td>\n",
       "      <td>mình đi với nhóm tổng cộng người ăn chỉ có khô...</td>\n",
       "    </tr>\n",
       "    <tr>\n",
       "      <th>3</th>\n",
       "      <td>nhân_viên phục_vụ không mấy tận_tình , đồ_ăn r...</td>\n",
       "      <td>0</td>\n",
       "      <td>nhân viên phục vụ không mấy tận tình đồ ăn ra ...</td>\n",
       "    </tr>\n",
       "    <tr>\n",
       "      <th>4</th>\n",
       "      <td>Vào đây thì hết bàn , nhưng mình vẫn ngồi đợi ...</td>\n",
       "      <td>0</td>\n",
       "      <td>vào đây thì hết bàn nhưng mình vẫn ngồi đợi bì...</td>\n",
       "    </tr>\n",
       "    <tr>\n",
       "      <th>...</th>\n",
       "      <td>...</td>\n",
       "      <td>...</td>\n",
       "      <td>...</td>\n",
       "    </tr>\n",
       "    <tr>\n",
       "      <th>29995</th>\n",
       "      <td>2-9 mình đi với nhóm bạn tổng_cộng là 8ng.Thiệ...</td>\n",
       "      <td>1</td>\n",
       "      <td>mình đi với nhóm bạn tổng cộng là ng thiệt hại...</td>\n",
       "    </tr>\n",
       "    <tr>\n",
       "      <th>29996</th>\n",
       "      <td>sushi bình_dân mà chất_lượng không bình_dân ch...</td>\n",
       "      <td>1</td>\n",
       "      <td>sushi bình dân mà chất lượng không bình dân ch...</td>\n",
       "    </tr>\n",
       "    <tr>\n",
       "      <th>29997</th>\n",
       "      <td>Trời_ơi từ bé đến lớn chưa thử món kem nào bằn...</td>\n",
       "      <td>1</td>\n",
       "      <td>trời ơi từ bé đến lớn chưa thử món kem nào bằn...</td>\n",
       "    </tr>\n",
       "    <tr>\n",
       "      <th>29998</th>\n",
       "      <td>Nge mn cũng ns ngon nên hni đến coi thế_nào .\\...</td>\n",
       "      <td>1</td>\n",
       "      <td>nge mn cũng ns ngon nên hni đến coi thế nào qu...</td>\n",
       "    </tr>\n",
       "    <tr>\n",
       "      <th>29999</th>\n",
       "      <td>Ks đẹp . Thoág mát . Lại gần vs phố cổ nữa nên...</td>\n",
       "      <td>1</td>\n",
       "      <td>ks đẹp thoág mát lại gần vs phố cổ nữa nên rất...</td>\n",
       "    </tr>\n",
       "  </tbody>\n",
       "</table>\n",
       "<p>29736 rows × 3 columns</p>\n",
       "</div>"
      ],
      "text/plain": [
       "                                                sentence  label  \\\n",
       "0      Mua có mỗi Bingsu thập_cẩm 45k mà mình f đợi h...      0   \n",
       "1      Thứ 6 nào ta cùng quẩy 💣 💣 💣\\n Vuvuzela beer c...      0   \n",
       "2      Mình đi với nhóm , tổng_cộng 4 người ăn chỉ có...      0   \n",
       "3      nhân_viên phục_vụ không mấy tận_tình , đồ_ăn r...      0   \n",
       "4      Vào đây thì hết bàn , nhưng mình vẫn ngồi đợi ...      0   \n",
       "...                                                  ...    ...   \n",
       "29995  2-9 mình đi với nhóm bạn tổng_cộng là 8ng.Thiệ...      1   \n",
       "29996  sushi bình_dân mà chất_lượng không bình_dân ch...      1   \n",
       "29997  Trời_ơi từ bé đến lớn chưa thử món kem nào bằn...      1   \n",
       "29998  Nge mn cũng ns ngon nên hni đến coi thế_nào .\\...      1   \n",
       "29999  Ks đẹp . Thoág mát . Lại gần vs phố cổ nữa nên...      1   \n",
       "\n",
       "                                     preprocess_sentence  \n",
       "0      mua có mỗi bingsu thập cẩm k mà mình f đợi hơn...  \n",
       "1      thứ nào ta cùng quẩy vuvuzela beer club chung ...  \n",
       "2      mình đi với nhóm tổng cộng người ăn chỉ có khô...  \n",
       "3      nhân viên phục vụ không mấy tận tình đồ ăn ra ...  \n",
       "4      vào đây thì hết bàn nhưng mình vẫn ngồi đợi bì...  \n",
       "...                                                  ...  \n",
       "29995  mình đi với nhóm bạn tổng cộng là ng thiệt hại...  \n",
       "29996  sushi bình dân mà chất lượng không bình dân ch...  \n",
       "29997  trời ơi từ bé đến lớn chưa thử món kem nào bằn...  \n",
       "29998  nge mn cũng ns ngon nên hni đến coi thế nào qu...  \n",
       "29999  ks đẹp thoág mát lại gần vs phố cổ nữa nên rất...  \n",
       "\n",
       "[29736 rows x 3 columns]"
      ]
     },
     "execution_count": 17,
     "metadata": {},
     "output_type": "execute_result"
    }
   ],
   "source": [
    "train_df_vi"
   ]
  },
  {
   "cell_type": "markdown",
   "metadata": {
    "id": "ysfkpVN8WeTA"
   },
   "source": [
    "### **Representation**"
   ]
  },
  {
   "cell_type": "code",
   "execution_count": 18,
   "metadata": {
    "colab": {
     "base_uri": "https://localhost:8080/"
    },
    "executionInfo": {
     "elapsed": 3961,
     "status": "ok",
     "timestamp": 1733328641199,
     "user": {
      "displayName": "Thái Nguyễn Quốc",
      "userId": "04072932238722635186"
     },
     "user_tz": -420
    },
    "id": "W7C0Wu9OWhtW",
    "outputId": "3ce3f884-aa27-4a5c-ca6f-f58c43c66d91"
   },
   "outputs": [],
   "source": [
    "# !pip install torchtext==0.16.0"
   ]
  },
  {
   "cell_type": "code",
   "execution_count": 19,
   "metadata": {
    "id": "7F2zmrCDWjPR"
   },
   "outputs": [],
   "source": [
    "def yield_tokens(sentences, tokenizer):\n",
    "    for sentence in sentences:\n",
    "        yield tokenizer(sentence)"
   ]
  },
  {
   "cell_type": "code",
   "execution_count": 20,
   "metadata": {
    "id": "jzNbnN9JWjRZ"
   },
   "outputs": [],
   "source": [
    "# word-based tokenizer\n",
    "from torchtext.data.utils import get_tokenizer\n",
    "\n",
    "tokenizer = get_tokenizer(\"basic_english\")"
   ]
  },
  {
   "cell_type": "code",
   "execution_count": 21,
   "metadata": {
    "id": "kIf0sk6kWjTn"
   },
   "outputs": [],
   "source": [
    "# build vocabulary\n",
    "from torchtext.vocab import build_vocab_from_iterator\n",
    "\n",
    "vocab_size = 10000\n",
    "vocabulary = build_vocab_from_iterator(\n",
    "    yield_tokens(train_df_vi['preprocess_sentence'], tokenizer),\n",
    "    max_tokens=vocab_size,\n",
    "    specials=[\"<pad>\", \"<unk>\"]\n",
    ")\n",
    "vocabulary.set_default_index(vocabulary[\"<unk>\"])"
   ]
  },
  {
   "cell_type": "code",
   "execution_count": 22,
   "metadata": {
    "colab": {
     "base_uri": "https://localhost:8080/"
    },
    "executionInfo": {
     "elapsed": 1,
     "status": "ok",
     "timestamp": 1733328873291,
     "user": {
      "displayName": "Thái Nguyễn Quốc",
      "userId": "04072932238722635186"
     },
     "user_tz": -420
    },
    "id": "neiHfHavY_6r",
    "outputId": "799cc541-41f4-4ee6-b748-59f97ae611a3"
   },
   "outputs": [
    {
     "data": {
      "text/plain": [
       "0"
      ]
     },
     "execution_count": 22,
     "metadata": {},
     "output_type": "execute_result"
    }
   ],
   "source": [
    "vocabulary[\"<pad>\"]"
   ]
  },
  {
   "cell_type": "code",
   "execution_count": 23,
   "metadata": {
    "id": "i4_bVad3WjVp"
   },
   "outputs": [],
   "source": [
    "from torchtext.data.functional import to_map_style_dataset\n",
    "\n",
    "def prepare_dataset(df):\n",
    "    # create iterator for dataset: (sentence, label)\n",
    "    for index, row in df.iterrows():\n",
    "        sentence = row['preprocess_sentence']\n",
    "        encoded_sentence = vocabulary(tokenizer(sentence))\n",
    "        label = row['label']\n",
    "        yield encoded_sentence, label\n",
    "\n",
    "train_dataset = prepare_dataset(train_df_vi)\n",
    "train_dataset = to_map_style_dataset(train_dataset)\n",
    "\n",
    "valid_dataset = prepare_dataset(valid_df)\n",
    "valid_dataset = to_map_style_dataset(valid_dataset)"
   ]
  },
  {
   "cell_type": "markdown",
   "metadata": {
    "id": "dhiWKeY0YRXy"
   },
   "source": [
    "### **Dataloader**"
   ]
  },
  {
   "cell_type": "code",
   "execution_count": 24,
   "metadata": {
    "id": "-mbVV_E6YXmM"
   },
   "outputs": [],
   "source": [
    "import torch\n",
    "from torch.nn.utils.rnn import pad_sequence\n",
    "\n",
    "device = torch.device(\"cuda\" if torch.cuda.is_available() else \"cpu\")\n",
    "\n",
    "def collate_batch(batch):\n",
    "    # create inputs, offsets, labels for batch\n",
    "    encoded_sentences, labels = [], []\n",
    "    for encoded_sentence, label in batch:\n",
    "        labels.append(label)\n",
    "        encoded_sentence = torch.tensor(encoded_sentence, dtype=torch.int64)\n",
    "        encoded_sentences.append(encoded_sentence)\n",
    "\n",
    "    labels = torch.tensor(labels, dtype=torch.int64)\n",
    "    encoded_sentences = pad_sequence(\n",
    "        encoded_sentences,\n",
    "        padding_value=vocabulary[\"<pad>\"]\n",
    "    )\n",
    "\n",
    "    return encoded_sentences, labels"
   ]
  },
  {
   "cell_type": "code",
   "execution_count": 25,
   "metadata": {
    "id": "UlGlSjvtZJfY"
   },
   "outputs": [],
   "source": [
    "from torch.utils.data import DataLoader\n",
    "\n",
    "batch_size = 128\n",
    "train_dataloader = DataLoader(\n",
    "    train_dataset,\n",
    "    batch_size=batch_size,\n",
    "    shuffle=True,\n",
    "    collate_fn=collate_batch\n",
    ")\n",
    "valid_dataloader = DataLoader(\n",
    "    valid_dataset,\n",
    "    batch_size=batch_size,\n",
    "    shuffle=False,\n",
    "    collate_fn=collate_batch\n",
    ")"
   ]
  },
  {
   "cell_type": "code",
   "execution_count": 26,
   "metadata": {
    "colab": {
     "base_uri": "https://localhost:8080/"
    },
    "executionInfo": {
     "elapsed": 469,
     "status": "ok",
     "timestamp": 1733328891459,
     "user": {
      "displayName": "Thái Nguyễn Quốc",
      "userId": "04072932238722635186"
     },
     "user_tz": -420
    },
    "id": "jHqk8A1dZLOI",
    "outputId": "8a4a6c93-5ee5-43df-dbf2-e1bbc8c1ea56"
   },
   "outputs": [
    {
     "data": {
      "text/plain": [
       "(tensor([[  74, 1787,  197,  ...,   90,  441,    3],\n",
       "         [ 130,   13,  168,  ...,   48,   32,   38],\n",
       "         [1064,   94,  267,  ...,   40,  161,  314],\n",
       "         ...,\n",
       "         [   0,    0,    0,  ...,    0,    0,    0],\n",
       "         [   0,    0,    0,  ...,    0,    0,    0],\n",
       "         [   0,    0,    0,  ...,    0,    0,    0]]),\n",
       " tensor([0, 1, 0, 1, 1, 0, 1, 0, 1, 1, 1, 1, 0, 1, 1, 0, 1, 0, 1, 1, 1, 1, 0, 1,\n",
       "         1, 1, 0, 1, 1, 1, 1, 0, 1, 1, 0, 0, 0, 1, 1, 1, 0, 1, 1, 0, 0, 1, 1, 1,\n",
       "         1, 0, 0, 0, 1, 0, 1, 1, 0, 1, 1, 1, 1, 0, 0, 1, 0, 1, 1, 1, 0, 0, 0, 1,\n",
       "         0, 1, 1, 1, 1, 0, 0, 0, 1, 1, 0, 0, 1, 1, 1, 1, 1, 0, 0, 1, 1, 1, 0, 0,\n",
       "         0, 0, 0, 1, 1, 0, 1, 0, 0, 1, 0, 0, 0, 0, 0, 0, 1, 0, 1, 0, 0, 0, 1, 0,\n",
       "         0, 0, 1, 0, 1, 1, 1, 0]))"
      ]
     },
     "execution_count": 26,
     "metadata": {},
     "output_type": "execute_result"
    }
   ],
   "source": [
    "next(iter(train_dataloader))"
   ]
  },
  {
   "cell_type": "code",
   "execution_count": 27,
   "metadata": {
    "id": "QiMlYIuAZNPY"
   },
   "outputs": [],
   "source": [
    "encoded_sentences, labels = next(iter(train_dataloader))"
   ]
  },
  {
   "cell_type": "code",
   "execution_count": 28,
   "metadata": {
    "colab": {
     "base_uri": "https://localhost:8080/"
    },
    "executionInfo": {
     "elapsed": 333,
     "status": "ok",
     "timestamp": 1732853511373,
     "user": {
      "displayName": "Thái Nguyễn Quốc",
      "userId": "04072932238722635186"
     },
     "user_tz": -420
    },
    "id": "BvgIPLMJZO57",
    "outputId": "b0c989be-a196-434a-a400-ae72a4c5499f"
   },
   "outputs": [
    {
     "data": {
      "text/plain": [
       "torch.Size([367, 128])"
      ]
     },
     "execution_count": 28,
     "metadata": {},
     "output_type": "execute_result"
    }
   ],
   "source": [
    "encoded_sentences.shape"
   ]
  },
  {
   "cell_type": "markdown",
   "metadata": {
    "id": "UeDzx-BoZX9A"
   },
   "source": [
    "### **Model**"
   ]
  },
  {
   "cell_type": "code",
   "execution_count": 29,
   "metadata": {
    "id": "0-8gNDBvZaKd"
   },
   "outputs": [],
   "source": [
    "import torch.nn as nn\n",
    "class TextCNN(nn.Module):\n",
    "    def __init__(\n",
    "        self,\n",
    "        vocab_size, embedding_dim, kernel_sizes, num_filters, num_classes):\n",
    "        super(TextCNN, self).__init__()\n",
    "\n",
    "        self.vocab_size = vocab_size\n",
    "        self.embedding_dim = embedding_dim\n",
    "        self.kernel_sizes = kernel_sizes\n",
    "        self.num_filters = num_filters\n",
    "        self.num_classes = num_classes\n",
    "        self.embedding = nn.Embedding(vocab_size, embedding_dim, padding_idx=0)\n",
    "        self.conv = nn.ModuleList([\n",
    "            nn.Conv1d(\n",
    "                in_channels=embedding_dim,\n",
    "                out_channels=num_filters,\n",
    "                kernel_size=k,\n",
    "                stride=1\n",
    "            ) for k in kernel_sizes])\n",
    "        self.fc = nn.Linear(len(kernel_sizes) * num_filters, num_classes)\n",
    "\n",
    "    def forward(self, x):\n",
    "        x = self.embedding(x.T).transpose(1, 2)\n",
    "        x = [F.relu(conv(x)) for conv in self.conv]\n",
    "        x = [F.max_pool1d(c, c.size(-1)).squeeze(dim=-1) for c in x]\n",
    "        x = torch.cat(x, dim=1)\n",
    "        x = self.fc(x)\n",
    "        return x"
   ]
  },
  {
   "cell_type": "code",
   "execution_count": 30,
   "metadata": {
    "id": "qcV1qvGqZqoI"
   },
   "outputs": [],
   "source": [
    "vocab_size = len(vocabulary)\n",
    "embedding_dim = 100\n",
    "\n",
    "model = TextCNN(\n",
    "    vocab_size=vocab_size,\n",
    "    embedding_dim=embedding_dim,\n",
    "    kernel_sizes=[3, 4, 5],\n",
    "    num_filters=100,\n",
    "    num_classes=2\n",
    ")"
   ]
  },
  {
   "cell_type": "code",
   "execution_count": 31,
   "metadata": {
    "colab": {
     "base_uri": "https://localhost:8080/"
    },
    "executionInfo": {
     "elapsed": 383,
     "status": "ok",
     "timestamp": 1732854027893,
     "user": {
      "displayName": "Thái Nguyễn Quốc",
      "userId": "04072932238722635186"
     },
     "user_tz": -420
    },
    "id": "CR-27-ttJg4y",
    "outputId": "eda82cc2-9143-45d5-8e68-136ae3ca8329"
   },
   "outputs": [
    {
     "data": {
      "text/plain": [
       "10000"
      ]
     },
     "execution_count": 31,
     "metadata": {},
     "output_type": "execute_result"
    }
   ],
   "source": [
    "vocab_size"
   ]
  },
  {
   "cell_type": "code",
   "execution_count": 32,
   "metadata": {
    "colab": {
     "base_uri": "https://localhost:8080/"
    },
    "executionInfo": {
     "elapsed": 635,
     "status": "ok",
     "timestamp": 1732853519124,
     "user": {
      "displayName": "Thái Nguyễn Quốc",
      "userId": "04072932238722635186"
     },
     "user_tz": -420
    },
    "id": "_uvT6i-RaRgc",
    "outputId": "a82507e6-9b0a-42a6-cd68-8095344dcb1a"
   },
   "outputs": [
    {
     "data": {
      "text/plain": [
       "tensor([[-0.2948, -1.0078],\n",
       "        [-0.7929, -1.5144],\n",
       "        [-0.4858, -0.9021],\n",
       "        [-0.2256, -1.1571],\n",
       "        [-0.5400, -1.6144],\n",
       "        [-0.1468, -1.2689],\n",
       "        [-0.6621, -1.1758],\n",
       "        [-0.6046, -1.3777],\n",
       "        [-0.6631, -1.0123],\n",
       "        [-0.6739, -1.6921],\n",
       "        [-0.5749, -1.5228],\n",
       "        [-0.5871, -1.2445],\n",
       "        [-0.5195, -1.4416],\n",
       "        [-0.3852, -1.2918],\n",
       "        [-0.6301, -1.1706],\n",
       "        [-0.4937, -1.4310],\n",
       "        [-0.1157, -0.8795],\n",
       "        [-0.5699, -1.3235],\n",
       "        [-0.7295, -1.3331],\n",
       "        [-0.8172, -1.4694],\n",
       "        [-0.8397, -1.7038],\n",
       "        [-0.3908, -1.2022],\n",
       "        [-0.3662, -1.2136],\n",
       "        [-0.4188, -1.0811],\n",
       "        [-0.3082, -1.0676],\n",
       "        [-0.6890, -1.1392],\n",
       "        [-0.6113, -1.4087],\n",
       "        [-0.3626, -1.2360],\n",
       "        [-0.6375, -1.2151],\n",
       "        [-0.4598, -1.2943],\n",
       "        [-0.3975, -0.7623],\n",
       "        [-0.6577, -1.4634],\n",
       "        [-0.5324, -1.4252],\n",
       "        [-0.2686, -1.2795],\n",
       "        [-0.7038, -1.1503],\n",
       "        [-0.6876, -1.5010],\n",
       "        [-0.2959, -1.1549],\n",
       "        [-0.4117, -1.4098],\n",
       "        [-0.7519, -1.3171],\n",
       "        [-0.4400, -1.1072],\n",
       "        [-0.9778, -1.6519],\n",
       "        [-0.5611, -1.4730],\n",
       "        [-0.3839, -0.9445],\n",
       "        [-0.2984, -0.8248],\n",
       "        [-0.2947, -1.0199],\n",
       "        [-0.4275, -1.1134],\n",
       "        [-0.5384, -1.4333],\n",
       "        [-0.5194, -1.3011],\n",
       "        [-0.5130, -1.3783],\n",
       "        [-0.4132, -1.2763],\n",
       "        [-0.5673, -1.6061],\n",
       "        [-0.5841, -1.1795],\n",
       "        [-0.3470, -1.5225],\n",
       "        [-0.5899, -1.7631],\n",
       "        [-0.3097, -1.2600],\n",
       "        [-0.3251, -0.8236],\n",
       "        [-0.5922, -1.7509],\n",
       "        [-0.7131, -1.5627],\n",
       "        [-0.5970, -1.5693],\n",
       "        [-0.2366, -0.9337],\n",
       "        [-0.4242, -1.5856],\n",
       "        [-0.7122, -1.3080],\n",
       "        [-0.7087, -1.2443],\n",
       "        [-0.2896, -0.8432],\n",
       "        [-0.4564, -1.0020],\n",
       "        [-0.4784, -1.4246],\n",
       "        [-0.2731, -0.8196],\n",
       "        [-0.3793, -0.8592],\n",
       "        [-0.5840, -1.5933],\n",
       "        [-0.2144, -0.8904],\n",
       "        [-0.1637, -1.0186],\n",
       "        [-0.7468, -1.6493],\n",
       "        [-0.3488, -1.5048],\n",
       "        [-0.6068, -1.4096],\n",
       "        [-0.7600, -1.4749],\n",
       "        [-0.1952, -0.9648],\n",
       "        [-0.7795, -1.1035],\n",
       "        [-0.5673, -1.3462],\n",
       "        [-0.2894, -1.2883],\n",
       "        [-0.5122, -1.5367],\n",
       "        [-0.4949, -1.4016],\n",
       "        [-0.3586, -1.2877],\n",
       "        [-0.6743, -1.3460],\n",
       "        [-0.4217, -1.1656],\n",
       "        [-0.6077, -1.0287],\n",
       "        [-0.7209, -1.7184],\n",
       "        [-0.2332, -1.0429],\n",
       "        [-0.5607, -1.6643],\n",
       "        [-0.2494, -1.2273],\n",
       "        [-0.5368, -1.4196],\n",
       "        [-0.3340, -1.1311],\n",
       "        [-0.5316, -1.5749],\n",
       "        [-0.4776, -0.9124],\n",
       "        [-0.6261, -1.6559],\n",
       "        [-0.5144, -1.3338],\n",
       "        [-0.4449, -1.3599],\n",
       "        [-0.4520, -1.5783],\n",
       "        [-0.5276, -1.2174],\n",
       "        [-0.5584, -1.3564],\n",
       "        [-0.5726, -0.9855],\n",
       "        [-0.4738, -1.1560],\n",
       "        [-0.3213, -1.3299],\n",
       "        [-0.2328, -1.2439],\n",
       "        [-0.5334, -1.5144],\n",
       "        [-0.3141, -1.3049],\n",
       "        [-0.5886, -1.3906],\n",
       "        [-0.4474, -1.2872],\n",
       "        [-0.4512, -1.0962],\n",
       "        [-0.5730, -1.3074],\n",
       "        [-0.6244, -1.4246],\n",
       "        [-0.6074, -1.2105],\n",
       "        [-0.5910, -1.5141],\n",
       "        [-0.5883, -1.1223],\n",
       "        [-0.9483, -1.3331],\n",
       "        [-0.6620, -1.2776],\n",
       "        [-0.4568, -1.1688],\n",
       "        [-0.6072, -1.4265],\n",
       "        [-0.8324, -1.1172],\n",
       "        [-0.8106, -1.2235],\n",
       "        [-0.6391, -1.1911],\n",
       "        [-0.3138, -1.0167],\n",
       "        [-0.2595, -0.8794],\n",
       "        [-0.4631, -0.7811],\n",
       "        [-0.6650, -1.4020],\n",
       "        [-0.6176, -1.4452],\n",
       "        [-0.8550, -1.2381],\n",
       "        [-0.7069, -1.5611],\n",
       "        [-0.6033, -1.5297]], grad_fn=<AddmmBackward0>)"
      ]
     },
     "execution_count": 32,
     "metadata": {},
     "output_type": "execute_result"
    }
   ],
   "source": [
    "predictions = model(encoded_sentences)\n",
    "predictions"
   ]
  },
  {
   "cell_type": "code",
   "execution_count": 33,
   "metadata": {
    "colab": {
     "base_uri": "https://localhost:8080/"
    },
    "executionInfo": {
     "elapsed": 371,
     "status": "ok",
     "timestamp": 1732853522651,
     "user": {
      "displayName": "Thái Nguyễn Quốc",
      "userId": "04072932238722635186"
     },
     "user_tz": -420
    },
    "id": "TzKOuljzHa1u",
    "outputId": "181f16ca-a07c-4bb3-a435-22a056abdcb7"
   },
   "outputs": [
    {
     "data": {
      "text/plain": [
       "torch.Size([128, 2])"
      ]
     },
     "execution_count": 33,
     "metadata": {},
     "output_type": "execute_result"
    }
   ],
   "source": [
    "predictions.shape"
   ]
  },
  {
   "cell_type": "markdown",
   "metadata": {
    "id": "kNqGgjXJac0v"
   },
   "source": [
    "### **Loss & Optimizer**"
   ]
  },
  {
   "cell_type": "code",
   "execution_count": 34,
   "metadata": {
    "id": "pAuJ2UbAabLl"
   },
   "outputs": [],
   "source": [
    "criterion = torch.nn.CrossEntropyLoss()\n",
    "optimizer = torch.optim.Adam(model.parameters())"
   ]
  },
  {
   "cell_type": "code",
   "execution_count": 35,
   "metadata": {
    "colab": {
     "base_uri": "https://localhost:8080/"
    },
    "executionInfo": {
     "elapsed": 2,
     "status": "ok",
     "timestamp": 1732852532819,
     "user": {
      "displayName": "Thái Nguyễn Quốc",
      "userId": "04072932238722635186"
     },
     "user_tz": -420
    },
    "id": "eQa3-oiAamgn",
    "outputId": "17f21d0d-219d-4615-f844-f4d1b9fffcf7"
   },
   "outputs": [
    {
     "data": {
      "text/plain": [
       "tensor(0.7989, grad_fn=<NllLossBackward0>)"
      ]
     },
     "execution_count": 35,
     "metadata": {},
     "output_type": "execute_result"
    }
   ],
   "source": [
    "loss = criterion(predictions, labels)\n",
    "loss"
   ]
  },
  {
   "cell_type": "markdown",
   "metadata": {
    "id": "CR-LASFrayrj"
   },
   "source": [
    "### **Trainer**"
   ]
  },
  {
   "cell_type": "code",
   "execution_count": 36,
   "metadata": {
    "id": "4fl6GnoUa1-m"
   },
   "outputs": [],
   "source": [
    "import time\n",
    "\n",
    "def train(model, optimizer, criterion, train_dataloader, device, epoch=0, log_interval=50):\n",
    "    model.train()\n",
    "    total_acc, total_count = 0, 0\n",
    "    losses = []\n",
    "    start_time = time.time()\n",
    "\n",
    "    for idx, (inputs, labels) in enumerate(train_dataloader):\n",
    "        inputs = inputs.to(device)\n",
    "        labels = labels.to(device)\n",
    "\n",
    "        # zero grad\n",
    "        optimizer.zero_grad()\n",
    "\n",
    "        # predictions\n",
    "        predictions = model(inputs)\n",
    "\n",
    "        # compute loss\n",
    "        loss = criterion(predictions, labels)\n",
    "        losses.append(loss.item())\n",
    "\n",
    "        # backward\n",
    "        loss.backward()\n",
    "        optimizer.step()\n",
    "        total_acc += (predictions.argmax(1) == labels).sum().item()\n",
    "        total_count += labels.size(0)\n",
    "        if idx % log_interval == 0 and idx > 0:\n",
    "            elapsed = time.time() - start_time\n",
    "            print(\n",
    "                \"| epoch {:3d} | {:5d}/{:5d} batches \"\n",
    "                \"| accuracy {:8.3f}\".format(\n",
    "                    epoch, idx, len(train_dataloader), total_acc / total_count\n",
    "                )\n",
    "            )\n",
    "            total_acc, total_count = 0, 0\n",
    "            start_time = time.time()\n",
    "\n",
    "    epoch_acc = total_acc / total_count\n",
    "    epoch_loss = sum(losses) / len(losses)\n",
    "    return epoch_acc, epoch_loss"
   ]
  },
  {
   "cell_type": "code",
   "execution_count": 37,
   "metadata": {
    "colab": {
     "base_uri": "https://localhost:8080/"
    },
    "executionInfo": {
     "elapsed": 308,
     "status": "ok",
     "timestamp": 1732852542722,
     "user": {
      "displayName": "Thái Nguyễn Quốc",
      "userId": "04072932238722635186"
     },
     "user_tz": -420
    },
    "id": "smPG2rQtbGME",
    "outputId": "8a0b81da-a41b-4eee-f2c0-fa6872edbbf3"
   },
   "outputs": [
    {
     "data": {
      "text/plain": [
       "TextCNN(\n",
       "  (embedding): Embedding(10000, 100, padding_idx=0)\n",
       "  (conv): ModuleList(\n",
       "    (0): Conv1d(100, 100, kernel_size=(3,), stride=(1,))\n",
       "    (1): Conv1d(100, 100, kernel_size=(4,), stride=(1,))\n",
       "    (2): Conv1d(100, 100, kernel_size=(5,), stride=(1,))\n",
       "  )\n",
       "  (fc): Linear(in_features=300, out_features=2, bias=True)\n",
       ")"
      ]
     },
     "execution_count": 37,
     "metadata": {},
     "output_type": "execute_result"
    }
   ],
   "source": [
    "model.to(device)"
   ]
  },
  {
   "cell_type": "code",
   "execution_count": 38,
   "metadata": {
    "colab": {
     "base_uri": "https://localhost:8080/"
    },
    "executionInfo": {
     "elapsed": 9740,
     "status": "ok",
     "timestamp": 1732852555041,
     "user": {
      "displayName": "Thái Nguyễn Quốc",
      "userId": "04072932238722635186"
     },
     "user_tz": -420
    },
    "id": "jIfPB_YHbKK0",
    "outputId": "1048594d-6397-473f-af36-d33f16ce3e01"
   },
   "outputs": [
    {
     "name": "stdout",
     "output_type": "stream",
     "text": [
      "| epoch   0 |    50/  233 batches | accuracy    0.757\n",
      "| epoch   0 |   100/  233 batches | accuracy    0.848\n",
      "| epoch   0 |   150/  233 batches | accuracy    0.862\n",
      "| epoch   0 |   200/  233 batches | accuracy    0.876\n"
     ]
    }
   ],
   "source": [
    "epoch_acc, epoch_loss = train(model, optimizer, criterion, train_dataloader, device)"
   ]
  },
  {
   "cell_type": "code",
   "execution_count": 39,
   "metadata": {
    "colab": {
     "base_uri": "https://localhost:8080/"
    },
    "executionInfo": {
     "elapsed": 12,
     "status": "ok",
     "timestamp": 1732852555041,
     "user": {
      "displayName": "Thái Nguyễn Quốc",
      "userId": "04072932238722635186"
     },
     "user_tz": -420
    },
    "id": "2zR4a7JWbM6m",
    "outputId": "701918fa-4d4b-4afd-8069-e48b7aca15c3"
   },
   "outputs": [
    {
     "data": {
      "text/plain": [
       "(0.8807385229540918, 0.37276209762935475)"
      ]
     },
     "execution_count": 39,
     "metadata": {},
     "output_type": "execute_result"
    }
   ],
   "source": [
    "epoch_acc, epoch_loss"
   ]
  },
  {
   "cell_type": "code",
   "execution_count": 40,
   "metadata": {
    "id": "_CHw-xiobQnG"
   },
   "outputs": [],
   "source": [
    "def evaluate(model, criterion, valid_dataloader, device):\n",
    "    model.eval()\n",
    "    total_acc, total_count = 0, 0\n",
    "    losses = []\n",
    "\n",
    "    with torch.no_grad():\n",
    "        for idx, (inputs, labels) in enumerate(valid_dataloader):\n",
    "            inputs = inputs.to(device)\n",
    "            labels = labels.to(device)\n",
    "            # predictions\n",
    "            predictions = model(inputs)\n",
    "\n",
    "            # compute loss\n",
    "            loss = criterion(predictions, labels)\n",
    "            losses.append(loss.item())\n",
    "\n",
    "            total_acc += (predictions.argmax(1) == labels).sum().item()\n",
    "            total_count += labels.size(0)\n",
    "\n",
    "    epoch_acc = total_acc / total_count\n",
    "    epoch_loss = sum(losses) / len(losses)\n",
    "    return epoch_acc, epoch_loss"
   ]
  },
  {
   "cell_type": "code",
   "execution_count": 41,
   "metadata": {
    "id": "n_Jt2UZJbZRE"
   },
   "outputs": [],
   "source": [
    "eval_acc, eval_loss = evaluate(model, criterion, valid_dataloader, device)"
   ]
  },
  {
   "cell_type": "code",
   "execution_count": 42,
   "metadata": {
    "colab": {
     "base_uri": "https://localhost:8080/"
    },
    "executionInfo": {
     "elapsed": 2,
     "status": "ok",
     "timestamp": 1732852575652,
     "user": {
      "displayName": "Thái Nguyễn Quốc",
      "userId": "04072932238722635186"
     },
     "user_tz": -420
    },
    "id": "vaNLSsBJba8h",
    "outputId": "b40cf658-1a39-4de0-aba2-426d78726e19"
   },
   "outputs": [
    {
     "data": {
      "text/plain": [
       "(0.8755, 0.3110328831627399)"
      ]
     },
     "execution_count": 42,
     "metadata": {},
     "output_type": "execute_result"
    }
   ],
   "source": [
    "eval_acc, eval_loss"
   ]
  },
  {
   "cell_type": "markdown",
   "metadata": {
    "id": "IQjxsnBFbjEr"
   },
   "source": [
    "### **Training**"
   ]
  },
  {
   "cell_type": "code",
   "execution_count": 43,
   "metadata": {
    "id": "6AhQ8UsSdXOl"
   },
   "outputs": [],
   "source": [
    "import torch.nn.functional as F"
   ]
  },
  {
   "cell_type": "code",
   "execution_count": 45,
   "metadata": {
    "colab": {
     "base_uri": "https://localhost:8080/"
    },
    "executionInfo": {
     "elapsed": 192450,
     "status": "ok",
     "timestamp": 1733329405555,
     "user": {
      "displayName": "Thái Nguyễn Quốc",
      "userId": "04072932238722635186"
     },
     "user_tz": -420
    },
    "id": "FLpPpGPFbdUB",
    "outputId": "a9e3241f-b47b-4e65-813b-a02104a70e30"
   },
   "outputs": [
    {
     "name": "stdout",
     "output_type": "stream",
     "text": [
      "| epoch   1 |    50/  233 batches | accuracy    0.680\n",
      "| epoch   1 |   100/  233 batches | accuracy    0.828\n",
      "| epoch   1 |   150/  233 batches | accuracy    0.851\n",
      "| epoch   1 |   200/  233 batches | accuracy    0.863\n",
      "Save model at ./model/text_cnn_model.pt\n",
      "-----------------------------------------------------------\n",
      "| End of epoch   1 | Time: 135.22s | Train Accuracy    0.866 | Train Loss    0.428 | Valid Accuracy    0.866 | Valid Loss    0.333 \n",
      "-----------------------------------------------------------\n",
      "| epoch   2 |    50/  233 batches | accuracy    0.898\n",
      "| epoch   2 |   100/  233 batches | accuracy    0.904\n",
      "| epoch   2 |   150/  233 batches | accuracy    0.899\n",
      "| epoch   2 |   200/  233 batches | accuracy    0.898\n",
      "Save model at ./model/text_cnn_model.pt\n",
      "-----------------------------------------------------------\n",
      "| End of epoch   2 | Time: 136.23s | Train Accuracy    0.902 | Train Loss    0.269 | Valid Accuracy    0.884 | Valid Loss    0.296 \n",
      "-----------------------------------------------------------\n",
      "| epoch   3 |    50/  233 batches | accuracy    0.934\n",
      "| epoch   3 |   100/  233 batches | accuracy    0.929\n",
      "| epoch   3 |   150/  233 batches | accuracy    0.931\n",
      "| epoch   3 |   200/  233 batches | accuracy    0.929\n",
      "Save model at ./model/text_cnn_model.pt\n",
      "-----------------------------------------------------------\n",
      "| End of epoch   3 | Time: 135.50s | Train Accuracy    0.925 | Train Loss    0.206 | Valid Accuracy    0.885 | Valid Loss    0.284 \n",
      "-----------------------------------------------------------\n",
      "| epoch   4 |    50/  233 batches | accuracy    0.953\n",
      "| epoch   4 |   100/  233 batches | accuracy    0.958\n",
      "| epoch   4 |   150/  233 batches | accuracy    0.949\n",
      "| epoch   4 |   200/  233 batches | accuracy    0.951\n",
      "Save model at ./model/text_cnn_model.pt\n",
      "-----------------------------------------------------------\n",
      "| End of epoch   4 | Time: 137.56s | Train Accuracy    0.948 | Train Loss    0.158 | Valid Accuracy    0.891 | Valid Loss    0.280 \n",
      "-----------------------------------------------------------\n",
      "| epoch   5 |    50/  233 batches | accuracy    0.974\n",
      "| epoch   5 |   100/  233 batches | accuracy    0.974\n",
      "| epoch   5 |   150/  233 batches | accuracy    0.972\n",
      "| epoch   5 |   200/  233 batches | accuracy    0.973\n",
      "Save model at ./model/text_cnn_model.pt\n",
      "-----------------------------------------------------------\n",
      "| End of epoch   5 | Time: 136.23s | Train Accuracy    0.969 | Train Loss    0.115 | Valid Accuracy    0.892 | Valid Loss    0.281 \n",
      "-----------------------------------------------------------\n",
      "| epoch   6 |    50/  233 batches | accuracy    0.989\n",
      "| epoch   6 |   100/  233 batches | accuracy    0.987\n",
      "| epoch   6 |   150/  233 batches | accuracy    0.986\n",
      "| epoch   6 |   200/  233 batches | accuracy    0.987\n",
      "Save model at ./model/text_cnn_model.pt\n",
      "-----------------------------------------------------------\n",
      "| End of epoch   6 | Time: 136.91s | Train Accuracy    0.984 | Train Loss    0.081 | Valid Accuracy    0.893 | Valid Loss    0.283 \n",
      "-----------------------------------------------------------\n",
      "| epoch   7 |    50/  233 batches | accuracy    0.995\n",
      "| epoch   7 |   100/  233 batches | accuracy    0.997\n",
      "| epoch   7 |   150/  233 batches | accuracy    0.995\n",
      "| epoch   7 |   200/  233 batches | accuracy    0.993\n",
      "Save model at ./model/text_cnn_model.pt\n",
      "-----------------------------------------------------------\n",
      "| End of epoch   7 | Time: 139.12s | Train Accuracy    0.994 | Train Loss    0.054 | Valid Accuracy    0.891 | Valid Loss    0.287 \n",
      "-----------------------------------------------------------\n",
      "| epoch   8 |    50/  233 batches | accuracy    0.999\n",
      "| epoch   8 |   100/  233 batches | accuracy    0.998\n",
      "| epoch   8 |   150/  233 batches | accuracy    0.998\n",
      "| epoch   8 |   200/  233 batches | accuracy    0.998\n",
      "Save model at ./model/text_cnn_model.pt\n",
      "-----------------------------------------------------------\n",
      "| End of epoch   8 | Time: 134.56s | Train Accuracy    0.997 | Train Loss    0.036 | Valid Accuracy    0.892 | Valid Loss    0.296 \n",
      "-----------------------------------------------------------\n",
      "| epoch   9 |    50/  233 batches | accuracy    1.000\n",
      "| epoch   9 |   100/  233 batches | accuracy    1.000\n",
      "| epoch   9 |   150/  233 batches | accuracy    1.000\n",
      "| epoch   9 |   200/  233 batches | accuracy    1.000\n",
      "Save model at ./model/text_cnn_model.pt\n",
      "-----------------------------------------------------------\n",
      "| End of epoch   9 | Time: 134.30s | Train Accuracy    1.000 | Train Loss    0.024 | Valid Accuracy    0.891 | Valid Loss    0.309 \n",
      "-----------------------------------------------------------\n",
      "| epoch  10 |    50/  233 batches | accuracy    1.000\n",
      "| epoch  10 |   100/  233 batches | accuracy    1.000\n",
      "| epoch  10 |   150/  233 batches | accuracy    1.000\n",
      "| epoch  10 |   200/  233 batches | accuracy    1.000\n",
      "Save model at ./model/text_cnn_model.pt\n",
      "-----------------------------------------------------------\n",
      "| End of epoch  10 | Time: 138.70s | Train Accuracy    1.000 | Train Loss    0.017 | Valid Accuracy    0.893 | Valid Loss    0.316 \n",
      "-----------------------------------------------------------\n"
     ]
    }
   ],
   "source": [
    "num_class = 2\n",
    "vocab_size = len(vocabulary)\n",
    "embedding_dim = 300\n",
    "device = torch.device(\"cuda\" if torch.cuda.is_available() else \"cpu\")\n",
    "\n",
    "model = TextCNN(\n",
    "    vocab_size=vocab_size,\n",
    "    embedding_dim=embedding_dim,\n",
    "    kernel_sizes=[3, 4, 5],\n",
    "    num_filters=100,\n",
    "    num_classes=2\n",
    ")\n",
    "model.to(device)\n",
    "\n",
    "criterion = torch.nn.CrossEntropyLoss()\n",
    "\n",
    "learning_rate = 2e-4\n",
    "optimizer = torch.optim.Adam(model.parameters(), learning_rate)\n",
    "\n",
    "num_epochs = 10\n",
    "save_model = './model'\n",
    "\n",
    "train_accs, train_losses = [], []\n",
    "eval_accs, eval_losses = [], []\n",
    "best_loss_eval = 100\n",
    "\n",
    "for epoch in range(1, num_epochs+1):\n",
    "    epoch_start_time = time.time()\n",
    "    # Training\n",
    "    train_acc, train_loss = train(model, optimizer, criterion, train_dataloader, device, epoch)\n",
    "    train_accs.append(train_acc)\n",
    "    train_losses.append(train_loss)\n",
    "\n",
    "    # Evaluation\n",
    "    eval_acc, eval_loss = evaluate(model, criterion, valid_dataloader, device)\n",
    "    eval_accs.append(eval_acc)\n",
    "    eval_losses.append(eval_loss)\n",
    "\n",
    "    # Save best model\n",
    "    if eval_loss < best_loss_eval:\n",
    "        print('Save model at ./model/text_cnn_model.pt')\n",
    "        torch.save(model.state_dict(), save_model + '/text_cnn_model.pt')\n",
    "\n",
    "    # Print loss, acc end epoch\n",
    "    print(\"-\" * 59)\n",
    "    print(\n",
    "        \"| End of epoch {:3d} | Time: {:5.2f}s | Train Accuracy {:8.3f} | Train Loss {:8.3f} \"\n",
    "        \"| Valid Accuracy {:8.3f} | Valid Loss {:8.3f} \".format(\n",
    "            epoch, time.time() - epoch_start_time, train_acc, train_loss, eval_acc, eval_loss\n",
    "        )\n",
    "    )\n",
    "    print(\"-\" * 59)\n",
    "\n",
    "    # Load best model\n",
    "    model.load_state_dict(torch.load(save_model + '/text_cnn_model.pt'))\n",
    "    model.eval()"
   ]
  },
  {
   "cell_type": "code",
   "execution_count": 46,
   "metadata": {
    "colab": {
     "base_uri": "https://localhost:8080/",
     "height": 511
    },
    "executionInfo": {
     "elapsed": 2019,
     "status": "ok",
     "timestamp": 1733329445392,
     "user": {
      "displayName": "Thái Nguyễn Quốc",
      "userId": "04072932238722635186"
     },
     "user_tz": -420
    },
    "id": "LriFfSAFcqeO",
    "outputId": "6c6aee43-9a63-47f5-b8ee-5d2749530fd7"
   },
   "outputs": [
    {
     "data": {
      "image/png": "[encoded data removed]",
      "text/plain": [
       "<Figure size 1200x600 with 2 Axes>"
      ]
     },
     "metadata": {},
     "output_type": "display_data"
    }
   ],
   "source": [
    "import matplotlib.pyplot as plt\n",
    "\n",
    "def plot_result(num_epochs, train_accs, eval_accs, train_losses, eval_losses):\n",
    "    epochs = list(range(num_epochs))\n",
    "    fig, axs = plt.subplots(nrows = 1, ncols =2 , figsize = (12,6))\n",
    "    axs[0].plot(epochs, train_accs, label = \"Training\")\n",
    "    axs[0].plot(epochs, eval_accs, label = \"Evaluation\")\n",
    "    axs[1].plot(epochs, train_losses, label = \"Training\")\n",
    "    axs[1].plot(epochs, eval_losses, label = \"Evaluation\")\n",
    "    axs[0].set_xlabel(\"Epochs\")\n",
    "    axs[1].set_xlabel(\"Epochs\")\n",
    "    axs[0].set_ylabel(\"Accuracy\")\n",
    "    axs[1].set_ylabel(\"Loss\")\n",
    "    plt.legend()\n",
    "\n",
    "plot_result(num_epochs, train_accs, eval_accs, train_losses, eval_losses)"
   ]
  },
  {
   "cell_type": "markdown",
   "metadata": {
    "id": "xIuqLpSOc2VM"
   },
   "source": [
    "### **Evaluation & Prediction**"
   ]
  },
  {
   "cell_type": "code",
   "execution_count": 47,
   "metadata": {
    "id": "bvizpBBlc166"
   },
   "outputs": [],
   "source": [
    "test_dataset = prepare_dataset(test_df)\n",
    "test_dataset = to_map_style_dataset(test_dataset)"
   ]
  },
  {
   "cell_type": "code",
   "execution_count": 48,
   "metadata": {
    "id": "gChIFVAQc-5R"
   },
   "outputs": [],
   "source": [
    "test_dataloader = DataLoader(\n",
    "    test_dataset,\n",
    "    batch_size=batch_size,\n",
    "    shuffle=False,\n",
    "    collate_fn=collate_batch\n",
    ")"
   ]
  },
  {
   "cell_type": "code",
   "execution_count": 49,
   "metadata": {
    "colab": {
     "base_uri": "https://localhost:8080/"
    },
    "executionInfo": {
     "elapsed": 2313,
     "status": "ok",
     "timestamp": 1733329469948,
     "user": {
      "displayName": "Thái Nguyễn Quốc",
      "userId": "04072932238722635186"
     },
     "user_tz": -420
    },
    "id": "2Tw96VDYdIX-",
    "outputId": "c7c1b10f-a7aa-462e-ac0a-3fb848928ac2"
   },
   "outputs": [
    {
     "data": {
      "text/plain": [
       "(0.8982, 0.2946922394293773)"
      ]
     },
     "execution_count": 49,
     "metadata": {},
     "output_type": "execute_result"
    }
   ],
   "source": [
    "test_acc, test_loss = evaluate(model, criterion, test_dataloader, device)\n",
    "test_acc, test_loss"
   ]
  },
  {
   "cell_type": "markdown",
   "metadata": {
    "id": "CRSXYBBSIVfV"
   },
   "source": [
    "### **Inference**"
   ]
  },
  {
   "cell_type": "code",
   "execution_count": 50,
   "metadata": {
    "id": "TUOARFsHIMfP"
   },
   "outputs": [],
   "source": [
    "from torchtext.data.utils import get_tokenizer\n",
    "\n",
    "tokenizer = get_tokenizer(\"basic_english\")\n",
    "\n",
    "def load_model(model_path, vocab_size=10000, embedding_dim=300, num_classes=2):\n",
    "    model = TextCNN(\n",
    "        vocab_size=vocab_size,\n",
    "        embedding_dim=embedding_dim,\n",
    "        kernel_sizes=[3, 4, 5],\n",
    "        num_filters=100,\n",
    "        num_classes=num_classes\n",
    "    )\n",
    "    model.load_state_dict(torch.load(model_path, weights_only=True))\n",
    "    model.eval()\n",
    "    return model\n",
    "\n",
    "def inference(sentence, vocabulary, model):\n",
    "    sentence = preprocess_text(sentence)\n",
    "    encoded_sentence = vocabulary(tokenizer(sentence))\n",
    "    encoded_sentence = torch.tensor(encoded_sentence)\n",
    "    encoded_sentence = torch.unsqueeze(encoded_sentence, 1)\n",
    "\n",
    "    with torch.no_grad():\n",
    "        predictions = model(encoded_sentence)\n",
    "    preds = nn.Softmax(dim=1)(predictions)\n",
    "    p_max, yhat = torch.max(preds.data, 1)\n",
    "    return round(p_max.item(), 2)*100, yhat.item()"
   ]
  },
  {
   "cell_type": "code",
   "execution_count": 51,
   "metadata": {
    "id": "30WPIDnffaix"
   },
   "outputs": [],
   "source": [
    "torch.save(model.state_dict(), save_model + '/text_cnn_model.pt')"
   ]
  },
  {
   "cell_type": "code",
   "execution_count": 52,
   "metadata": {
    "colab": {
     "base_uri": "https://localhost:8080/"
    },
    "executionInfo": {
     "elapsed": 472,
     "status": "ok",
     "timestamp": 1733329698826,
     "user": {
      "displayName": "Thái Nguyễn Quốc",
      "userId": "04072932238722635186"
     },
     "user_tz": -420
    },
    "id": "yOvoNL1TI3aM",
    "outputId": "867aab3c-f30b-46ce-ae2f-9fb702ecd3eb"
   },
   "outputs": [
    {
     "data": {
      "text/plain": [
       "(90.0, 1)"
      ]
     },
     "execution_count": 52,
     "metadata": {},
     "output_type": "execute_result"
    }
   ],
   "source": [
    "model = load_model('./model/text_cnn_model.pt')\n",
    "inference(test_df['preprocess_sentence'][5999], vocabulary, model)"
   ]
  },
  {
   "cell_type": "code",
   "execution_count": 53,
   "metadata": {
    "colab": {
     "base_uri": "https://localhost:8080/",
     "height": 423
    },
    "executionInfo": {
     "elapsed": 501,
     "status": "ok",
     "timestamp": 1733329667667,
     "user": {
      "displayName": "Thái Nguyễn Quốc",
      "userId": "04072932238722635186"
     },
     "user_tz": -420
    },
    "id": "91UrdMDzf557",
    "outputId": "14746c7d-18f8-4895-9361-c75542c10bf9"
   },
   "outputs": [
    {
     "data": {
      "text/html": [
       "<div>\n",
       "<style scoped>\n",
       "    .dataframe tbody tr th:only-of-type {\n",
       "        vertical-align: middle;\n",
       "    }\n",
       "\n",
       "    .dataframe tbody tr th {\n",
       "        vertical-align: top;\n",
       "    }\n",
       "\n",
       "    .dataframe thead th {\n",
       "        text-align: right;\n",
       "    }\n",
       "</style>\n",
       "<table border=\"1\" class=\"dataframe\">\n",
       "  <thead>\n",
       "    <tr style=\"text-align: right;\">\n",
       "      <th></th>\n",
       "      <th>sentence</th>\n",
       "      <th>label</th>\n",
       "      <th>preprocess_sentence</th>\n",
       "    </tr>\n",
       "  </thead>\n",
       "  <tbody>\n",
       "    <tr>\n",
       "      <th>0</th>\n",
       "      <td>Quán này khá là nổi_tiếng nay mới có dịp ghé t...</td>\n",
       "      <td>0</td>\n",
       "      <td>quán này khá là nổi tiếng nay mới có dịp ghé t...</td>\n",
       "    </tr>\n",
       "    <tr>\n",
       "      <th>1</th>\n",
       "      <td>Đây là lần đầu_tiên mình ăn_ở đây , và có_lẽ c...</td>\n",
       "      <td>0</td>\n",
       "      <td>đây là lần đầu tiên mình ăn ở đây và có lẽ cũn...</td>\n",
       "    </tr>\n",
       "    <tr>\n",
       "      <th>2</th>\n",
       "      <td>tha ́ i đô ̣ phu ̣ c vu ̣ nhân_viên không tô ́...</td>\n",
       "      <td>0</td>\n",
       "      <td>tha ́ i đô ̣ phu ̣ c vu ̣ nhân viên không tô ́...</td>\n",
       "    </tr>\n",
       "    <tr>\n",
       "      <th>3</th>\n",
       "      <td>Đồ_ăn bình_thường . Cần chăm_chút không_gian h...</td>\n",
       "      <td>0</td>\n",
       "      <td>đồ ăn bình thường cần chăm chút không gian hơn...</td>\n",
       "    </tr>\n",
       "    <tr>\n",
       "      <th>4</th>\n",
       "      <td>Phục_vụ lâu , giá thì ổn thôi nhưng chất_lượng...</td>\n",
       "      <td>0</td>\n",
       "      <td>phục vụ lâu giá thì ổn thôi nhưng chất lượng b...</td>\n",
       "    </tr>\n",
       "    <tr>\n",
       "      <th>...</th>\n",
       "      <td>...</td>\n",
       "      <td>...</td>\n",
       "      <td>...</td>\n",
       "    </tr>\n",
       "    <tr>\n",
       "      <th>9995</th>\n",
       "      <td>Gia re , mon an ngon , view dep va nhan vien n...</td>\n",
       "      <td>1</td>\n",
       "      <td>gia re mon an ngon view dep va nhan vien nhiet...</td>\n",
       "    </tr>\n",
       "    <tr>\n",
       "      <th>9996</th>\n",
       "      <td>Quán nằm trên đường Thạch_Thị_Thanh , dễ tìm ....</td>\n",
       "      <td>1</td>\n",
       "      <td>quán nằm trên đường thạch thị thanh dễ tìm khô...</td>\n",
       "    </tr>\n",
       "    <tr>\n",
       "      <th>9997</th>\n",
       "      <td>Mình đã đến ăn_ở quán này vài lần . Đồ_ăn ngon...</td>\n",
       "      <td>1</td>\n",
       "      <td>mình đã đến ăn ở quán này vài lần đồ ăn ngon g...</td>\n",
       "    </tr>\n",
       "    <tr>\n",
       "      <th>9998</th>\n",
       "      <td>Nhà_hàng trang_trí độc_đáo .\\n Món ăn mới_lạ n...</td>\n",
       "      <td>1</td>\n",
       "      <td>nhà hàng trang trí độc đáo món ăn mới lạ nhiều...</td>\n",
       "    </tr>\n",
       "    <tr>\n",
       "      <th>9999</th>\n",
       "      <td>Quán có đồ uống hạt_dẻ nhất khu_vực TC . Siêu ...</td>\n",
       "      <td>1</td>\n",
       "      <td>quán có đồ uống hạt dẻ nhất khu vực tc siêu rẻ...</td>\n",
       "    </tr>\n",
       "  </tbody>\n",
       "</table>\n",
       "<p>10000 rows × 3 columns</p>\n",
       "</div>"
      ],
      "text/plain": [
       "                                               sentence  label  \\\n",
       "0     Quán này khá là nổi_tiếng nay mới có dịp ghé t...      0   \n",
       "1     Đây là lần đầu_tiên mình ăn_ở đây , và có_lẽ c...      0   \n",
       "2     tha ́ i đô ̣ phu ̣ c vu ̣ nhân_viên không tô ́...      0   \n",
       "3     Đồ_ăn bình_thường . Cần chăm_chút không_gian h...      0   \n",
       "4     Phục_vụ lâu , giá thì ổn thôi nhưng chất_lượng...      0   \n",
       "...                                                 ...    ...   \n",
       "9995  Gia re , mon an ngon , view dep va nhan vien n...      1   \n",
       "9996  Quán nằm trên đường Thạch_Thị_Thanh , dễ tìm ....      1   \n",
       "9997  Mình đã đến ăn_ở quán này vài lần . Đồ_ăn ngon...      1   \n",
       "9998  Nhà_hàng trang_trí độc_đáo .\\n Món ăn mới_lạ n...      1   \n",
       "9999  Quán có đồ uống hạt_dẻ nhất khu_vực TC . Siêu ...      1   \n",
       "\n",
       "                                    preprocess_sentence  \n",
       "0     quán này khá là nổi tiếng nay mới có dịp ghé t...  \n",
       "1     đây là lần đầu tiên mình ăn ở đây và có lẽ cũn...  \n",
       "2     tha ́ i đô ̣ phu ̣ c vu ̣ nhân viên không tô ́...  \n",
       "3     đồ ăn bình thường cần chăm chút không gian hơn...  \n",
       "4     phục vụ lâu giá thì ổn thôi nhưng chất lượng b...  \n",
       "...                                                 ...  \n",
       "9995  gia re mon an ngon view dep va nhan vien nhiet...  \n",
       "9996  quán nằm trên đường thạch thị thanh dễ tìm khô...  \n",
       "9997  mình đã đến ăn ở quán này vài lần đồ ăn ngon g...  \n",
       "9998  nhà hàng trang trí độc đáo món ăn mới lạ nhiều...  \n",
       "9999  quán có đồ uống hạt dẻ nhất khu vực tc siêu rẻ...  \n",
       "\n",
       "[10000 rows x 3 columns]"
      ]
     },
     "execution_count": 53,
     "metadata": {},
     "output_type": "execute_result"
    }
   ],
   "source": [
    "test_df"
   ]
  },
  {
   "cell_type": "code",
   "execution_count": 54,
   "metadata": {
    "colab": {
     "base_uri": "https://localhost:8080/"
    },
    "executionInfo": {
     "elapsed": 452,
     "status": "ok",
     "timestamp": 1733329767672,
     "user": {
      "displayName": "Thái Nguyễn Quốc",
      "userId": "04072932238722635186"
     },
     "user_tz": -420
    },
    "id": "s7Nu0BxXfo7X",
    "outputId": "b8260cfd-0f47-4180-c31b-754685d0b655"
   },
   "outputs": [
    {
     "data": {
      "text/plain": [
       "(78.0, 0)"
      ]
     },
     "execution_count": 54,
     "metadata": {},
     "output_type": "execute_result"
    }
   ],
   "source": [
    "inference('Đồ ăn rất ngon và rẻ', vocabulary, model)"
   ]
  },
  {
   "cell_type": "code",
   "execution_count": 55,
   "metadata": {
    "colab": {
     "base_uri": "https://localhost:8080/",
     "height": 35
    },
    "executionInfo": {
     "elapsed": 483,
     "status": "ok",
     "timestamp": 1733329733460,
     "user": {
      "displayName": "Thái Nguyễn Quốc",
      "userId": "04072932238722635186"
     },
     "user_tz": -420
    },
    "id": "ga_8wXckgLFP",
    "outputId": "d4218a19-8077-4c3d-863e-bb9d3602a7e0"
   },
   "outputs": [
    {
     "data": {
      "text/plain": [
       "'ghé tiệm mua mấy cái bánh bao mà thấy bánh làm theo mùa noel nó đẹp gì đâu ak nhìn ưng quá giá có k một cái rẻ thôi rồi'"
      ]
     },
     "execution_count": 55,
     "metadata": {},
     "output_type": "execute_result"
    }
   ],
   "source": [
    "test_df['preprocess_sentence'][5999]"
   ]
  }
 ],
 "metadata": {
  "accelerator": "GPU",
  "colab": {
   "gpuType": "T4",
   "provenance": [],
   "toc_visible": true
  },
  "kernelspec": {
   "display_name": "gesture_env",
   "language": "python",
   "name": "python3"
  },
  "language_info": {
   "codemirror_mode": {
    "name": "ipython",
    "version": 3
   },
   "file_extension": ".py",
   "mimetype": "text/x-python",
   "name": "python",
   "nbconvert_exporter": "python",
   "pygments_lexer": "ipython3",
   "version": "3.10.15"
  }
 },
 "nbformat": 4,
 "nbformat_minor": 0
}
